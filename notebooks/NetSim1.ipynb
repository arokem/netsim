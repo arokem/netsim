{
 "cells": [
  {
   "cell_type": "markdown",
   "metadata": {},
   "source": [
    "### Observations 8.28.18\n",
    "\n",
    "(1) is in reality (Gt_1 - ro * Gt_1) = Gt-1 * (1-ro), here I am using ro to describe the opposite to residuality (how much it lingers) as opposed to how much it dissapears (?), so ri = 1 - ro\n",
    "\n",
    "Network potential or cost. Two versions at the moment. One that multiplies the distance decay by (Gt+1). We put a 1 because otherwise if when it multiplies by distance decay it would give us 0 (makes no sense). Second verson is just to use the distance decay. The former seems to generate straighter paths but that converge better. While the second version generate more 'natural' looking paths. "
   ]
  },
  {
   "cell_type": "markdown",
   "metadata": {},
   "source": [
    "## Equations  \n",
    "### *Ground Potential*"
   ]
  },
  {
   "cell_type": "markdown",
   "metadata": {},
   "source": [
    "The update of the ground potential is governed by the following equation:\n",
    "\n",
    "$$G_t =   G_{t-1} - \\frac{G_{t-1}}{T} + path_t \\cdot i \\cdot \\left[ 1 - \\frac{G_{t-1}}{G_{max}} \\right]$$\n",
    "\n",
    "$$(1)\\quad \\quad (2) \\qquad \\qquad \\quad(3)$$\n",
    "\n",
    "$(1)$ Impact of existing path network  \n",
    "$(2)$ Network residuality  \n",
    "$(3)$ Impact of a new path at timestep *t*\n",
    "\n",
    "#### *(1) Impact of existing ground network*  \n",
    "\n",
    "$G_{t-1}$ represents the ground potential at timestep t-1\n",
    "\n",
    "#### *(2) Network residuality*  \n",
    "\n",
    "$\\frac{G_{t-1}}{T}$ represents the fraction of the ground potential that is lost with each timestep.  Here $T$ accepts values $ 1 \\ldots n$.  If $T$ is 1 the effect of the existing ground potential $G_{t-1}$ is wiped out. However, the larger the value of $T$ the longer the existing ground network lingers, the larger the residuality of the existing network.\n",
    "\n",
    "#### *(3) Impact of new path* \n",
    "\n",
    "$ path_t $ new path generated at timestep $t$.\n",
    "\n",
    "The effect of a new path on the ground potential is given by $i$. In reality, $i$ may be a function dependent on different parameters or factors, e.g. type of disturbance (e.g. foot, wheel), terrain conditions and so on. For the sake of simplicity we will set $i$ to be constant 1.0.\n",
    "\n",
    "We recognize that the repeated effect of a new path on the ground is bounded to a maximum value or $G_{max}$. $G_{max}$ may indeed be a function of a combination of terrain conditions, e.g. terrain geology (how soft or hard the ground is), vegetation coverage, slope and so on. The presence of a path serves to the partially mark, clear the ground coverage. Once the ground has become totally clear, any additional treading due to a new path along the cleared ground will not have any effect. The term $ 1 - \\frac{G_{t-1}}{G_{max}} $ is used to control the degree to which a new path alters the existing ground potential. The effect of a new path is greatest on locations where previous 'ground disturbance' is absent and lesser on well treaded locations. Considering that $ 0 \\le G_{t-1} \\le G_{max}$ then   \n",
    "$\\quad$\n",
    "$$ 0 \\le \\frac{G_{t-1}}{G_{max}} \\le 1$$\n",
    "\n",
    "To understand how to interprete this ratio think about the following scenarios :\n",
    "- *Scenario 1* : if  $\\frac{G_{t-1}}{G_{max}} \\approx 1$ (close to 1), say 0.9, this means that ground potential is close to 'saturation' (close to $G_{max}$). Here the effect of a new path is 'damped down' to  $ 1 - \\frac{G_{t-1}}{G_{max}}= 0.1 $\n",
    "- *Scenario 2* : if  $ \\frac{G_{t-1}}{G_{max}} \\approx 0$ (close to 0), say 0.1, ground potential has not been too 'disturbed' yet and the effect of the new path is greater (in this case  $ 1 - \\frac{G_{t-1}}{G_{max}}= 0.9 $)\n",
    "$ $"
   ]
  },
  {
   "cell_type": "markdown",
   "metadata": {},
   "source": [
    "\n",
    "### *Network Potential* \n",
    "\n",
    "Ultimately, $G_t$ refers to the ground potential that describes current state of the path network on the ground, its existence in space. The network potential refers to its actual atractive effect, is derived from the ground potential using the following equation:\n",
    "\n",
    "$$ N_t = e^{d/\\alpha} $$\n",
    "\n",
    "However, to translate the effect of the network potential into cost terms, i.e. into a network cost, we use the following equation, \n",
    "\n",
    "$$ NC_t = 1 - e^{d/\\alpha} $$\n",
    "\n",
    "Where,\n",
    "- $d$ distance from ground disturbances\n",
    "- $\\alpha$ is a factor calculated using the following formula,\n",
    "$$ \\alpha = \\frac {d_0} {ln(1 - NC_0)} $$   \n",
    "\n",
    "![alt text]() \"graph showing cost increase here\"\n",
    "\n",
    "Here, the network potential has its lowest cost near the network and its greatest cost further away from the network. The network potential is what ultimately affects the creation of a new path and is what allows for the convergence of later paths into previous ones. This effect is controlled by $w$ parameter. This parameter varies $0 \\le w \\le 1$. By default it is set to 0.5 so as to give equal weight to the cost derived from the terrain versus that generated by the presence of the network."
   ]
  },
  {
   "cell_type": "markdown",
   "metadata": {},
   "source": [
    "### imports"
   ]
  },
  {
   "cell_type": "code",
   "execution_count": 1,
   "metadata": {},
   "outputs": [],
   "source": [
    "import netsim.netgen as ng\n",
    "import netsim.utils as utils\n",
    "import netsim.netsim as ns\n",
    "import geopandas as gpd\n",
    "import numpy as np"
   ]
  },
  {
   "cell_type": "markdown",
   "metadata": {},
   "source": [
    "### Reading files"
   ]
  },
  {
   "cell_type": "markdown",
   "metadata": {},
   "source": [
    "#### *Read DEM*"
   ]
  },
  {
   "cell_type": "code",
   "execution_count": 2,
   "metadata": {},
   "outputs": [],
   "source": [
    "fn = r'..\\data\\sample\\sampleDEM.tif'"
   ]
  },
  {
   "cell_type": "code",
   "execution_count": 3,
   "metadata": {},
   "outputs": [],
   "source": [
    "dem, meta = utils.read_raster(fn)"
   ]
  },
  {
   "cell_type": "code",
   "execution_count": 4,
   "metadata": {},
   "outputs": [],
   "source": [
    "cellsize = meta['affine'].a"
   ]
  },
  {
   "cell_type": "markdown",
   "metadata": {},
   "source": [
    "#### *Read shapefile into a geopandas dataframe*"
   ]
  },
  {
   "cell_type": "code",
   "execution_count": 5,
   "metadata": {},
   "outputs": [],
   "source": [
    "# change 5 or 15\n",
    "fn = r'..\\data\\sample\\sample5.shp'"
   ]
  },
  {
   "cell_type": "markdown",
   "metadata": {},
   "source": [
    "##### read and make a copy of original dataframe"
   ]
  },
  {
   "cell_type": "code",
   "execution_count": 6,
   "metadata": {},
   "outputs": [
    {
     "data": {
      "text/html": [
       "<div>\n",
       "<style scoped>\n",
       "    .dataframe tbody tr th:only-of-type {\n",
       "        vertical-align: middle;\n",
       "    }\n",
       "\n",
       "    .dataframe tbody tr th {\n",
       "        vertical-align: top;\n",
       "    }\n",
       "\n",
       "    .dataframe thead th {\n",
       "        text-align: right;\n",
       "    }\n",
       "</style>\n",
       "<table border=\"1\" class=\"dataframe\">\n",
       "  <thead>\n",
       "    <tr style=\"text-align: right;\">\n",
       "      <th></th>\n",
       "      <th>id</th>\n",
       "      <th>seq</th>\n",
       "      <th>group</th>\n",
       "      <th>mix</th>\n",
       "      <th>easting</th>\n",
       "      <th>northing</th>\n",
       "      <th>geometry</th>\n",
       "    </tr>\n",
       "  </thead>\n",
       "  <tbody>\n",
       "    <tr>\n",
       "      <th>0</th>\n",
       "      <td>0</td>\n",
       "      <td>1</td>\n",
       "      <td>1</td>\n",
       "      <td>0</td>\n",
       "      <td>530782</td>\n",
       "      <td>4389390</td>\n",
       "      <td>POINT (530782 4389390)</td>\n",
       "    </tr>\n",
       "    <tr>\n",
       "      <th>1</th>\n",
       "      <td>1</td>\n",
       "      <td>1</td>\n",
       "      <td>1</td>\n",
       "      <td>0</td>\n",
       "      <td>531119</td>\n",
       "      <td>4388860</td>\n",
       "      <td>POINT (531119 4388860)</td>\n",
       "    </tr>\n",
       "    <tr>\n",
       "      <th>2</th>\n",
       "      <td>2</td>\n",
       "      <td>1</td>\n",
       "      <td>1</td>\n",
       "      <td>0</td>\n",
       "      <td>530403</td>\n",
       "      <td>4388580</td>\n",
       "      <td>POINT (530403 4388580)</td>\n",
       "    </tr>\n",
       "    <tr>\n",
       "      <th>3</th>\n",
       "      <td>3</td>\n",
       "      <td>1</td>\n",
       "      <td>1</td>\n",
       "      <td>0</td>\n",
       "      <td>530503</td>\n",
       "      <td>4388620</td>\n",
       "      <td>POINT (530503 4388620)</td>\n",
       "    </tr>\n",
       "    <tr>\n",
       "      <th>4</th>\n",
       "      <td>4</td>\n",
       "      <td>1</td>\n",
       "      <td>1</td>\n",
       "      <td>0</td>\n",
       "      <td>530729</td>\n",
       "      <td>4388930</td>\n",
       "      <td>POINT (530729 4388930)</td>\n",
       "    </tr>\n",
       "    <tr>\n",
       "      <th>5</th>\n",
       "      <td>5</td>\n",
       "      <td>1</td>\n",
       "      <td>1</td>\n",
       "      <td>0</td>\n",
       "      <td>530606</td>\n",
       "      <td>4389150</td>\n",
       "      <td>POINT (530606 4389150)</td>\n",
       "    </tr>\n",
       "  </tbody>\n",
       "</table>\n",
       "</div>"
      ],
      "text/plain": [
       "   id  seq  group  mix  easting  northing                geometry\n",
       "0   0    1      1    0   530782   4389390  POINT (530782 4389390)\n",
       "1   1    1      1    0   531119   4388860  POINT (531119 4388860)\n",
       "2   2    1      1    0   530403   4388580  POINT (530403 4388580)\n",
       "3   3    1      1    0   530503   4388620  POINT (530503 4388620)\n",
       "4   4    1      1    0   530729   4388930  POINT (530729 4388930)\n",
       "5   5    1      1    0   530606   4389150  POINT (530606 4389150)"
      ]
     },
     "execution_count": 6,
     "metadata": {},
     "output_type": "execute_result"
    }
   ],
   "source": [
    "df_temp = gpd.read_file(fn)\n",
    "\n",
    "# make a copy\n",
    "df = df_temp.copy(deep=True)\n",
    "df"
   ]
  },
  {
   "cell_type": "markdown",
   "metadata": {},
   "source": [
    "### Preliminaries"
   ]
  },
  {
   "cell_type": "markdown",
   "metadata": {},
   "source": [
    "#### *Convert point coordinates into rows and column and add to dataframe*"
   ]
  },
  {
   "cell_type": "code",
   "execution_count": 7,
   "metadata": {},
   "outputs": [
    {
     "data": {
      "text/html": [
       "<div>\n",
       "<style scoped>\n",
       "    .dataframe tbody tr th:only-of-type {\n",
       "        vertical-align: middle;\n",
       "    }\n",
       "\n",
       "    .dataframe tbody tr th {\n",
       "        vertical-align: top;\n",
       "    }\n",
       "\n",
       "    .dataframe thead th {\n",
       "        text-align: right;\n",
       "    }\n",
       "</style>\n",
       "<table border=\"1\" class=\"dataframe\">\n",
       "  <thead>\n",
       "    <tr style=\"text-align: right;\">\n",
       "      <th></th>\n",
       "      <th>id</th>\n",
       "      <th>seq</th>\n",
       "      <th>group</th>\n",
       "      <th>mix</th>\n",
       "      <th>easting</th>\n",
       "      <th>northing</th>\n",
       "      <th>geometry</th>\n",
       "      <th>r</th>\n",
       "      <th>c</th>\n",
       "    </tr>\n",
       "  </thead>\n",
       "  <tbody>\n",
       "    <tr>\n",
       "      <th>0</th>\n",
       "      <td>0</td>\n",
       "      <td>1</td>\n",
       "      <td>1</td>\n",
       "      <td>0</td>\n",
       "      <td>530782</td>\n",
       "      <td>4389390</td>\n",
       "      <td>POINT (530782 4389390)</td>\n",
       "      <td>18</td>\n",
       "      <td>104</td>\n",
       "    </tr>\n",
       "    <tr>\n",
       "      <th>1</th>\n",
       "      <td>1</td>\n",
       "      <td>1</td>\n",
       "      <td>1</td>\n",
       "      <td>0</td>\n",
       "      <td>531119</td>\n",
       "      <td>4388860</td>\n",
       "      <td>POINT (531119 4388860)</td>\n",
       "      <td>124</td>\n",
       "      <td>171</td>\n",
       "    </tr>\n",
       "    <tr>\n",
       "      <th>2</th>\n",
       "      <td>2</td>\n",
       "      <td>1</td>\n",
       "      <td>1</td>\n",
       "      <td>0</td>\n",
       "      <td>530403</td>\n",
       "      <td>4388580</td>\n",
       "      <td>POINT (530403 4388580)</td>\n",
       "      <td>180</td>\n",
       "      <td>28</td>\n",
       "    </tr>\n",
       "    <tr>\n",
       "      <th>3</th>\n",
       "      <td>3</td>\n",
       "      <td>1</td>\n",
       "      <td>1</td>\n",
       "      <td>0</td>\n",
       "      <td>530503</td>\n",
       "      <td>4388620</td>\n",
       "      <td>POINT (530503 4388620)</td>\n",
       "      <td>172</td>\n",
       "      <td>48</td>\n",
       "    </tr>\n",
       "    <tr>\n",
       "      <th>4</th>\n",
       "      <td>4</td>\n",
       "      <td>1</td>\n",
       "      <td>1</td>\n",
       "      <td>0</td>\n",
       "      <td>530729</td>\n",
       "      <td>4388930</td>\n",
       "      <td>POINT (530729 4388930)</td>\n",
       "      <td>110</td>\n",
       "      <td>93</td>\n",
       "    </tr>\n",
       "    <tr>\n",
       "      <th>5</th>\n",
       "      <td>5</td>\n",
       "      <td>1</td>\n",
       "      <td>1</td>\n",
       "      <td>0</td>\n",
       "      <td>530606</td>\n",
       "      <td>4389150</td>\n",
       "      <td>POINT (530606 4389150)</td>\n",
       "      <td>66</td>\n",
       "      <td>68</td>\n",
       "    </tr>\n",
       "  </tbody>\n",
       "</table>\n",
       "</div>"
      ],
      "text/plain": [
       "   id  seq  group  mix  easting  northing                geometry    r    c\n",
       "0   0    1      1    0   530782   4389390  POINT (530782 4389390)   18  104\n",
       "1   1    1      1    0   531119   4388860  POINT (531119 4388860)  124  171\n",
       "2   2    1      1    0   530403   4388580  POINT (530403 4388580)  180   28\n",
       "3   3    1      1    0   530503   4388620  POINT (530503 4388620)  172   48\n",
       "4   4    1      1    0   530729   4388930  POINT (530729 4388930)  110   93\n",
       "5   5    1      1    0   530606   4389150  POINT (530606 4389150)   66   68"
      ]
     },
     "execution_count": 7,
     "metadata": {},
     "output_type": "execute_result"
    }
   ],
   "source": [
    "df['r'], df['c'] = utils.pt2rc(df['geometry'], meta)\n",
    "df"
   ]
  },
  {
   "cell_type": "markdown",
   "metadata": {},
   "source": [
    "#### *Plot locations*"
   ]
  },
  {
   "cell_type": "code",
   "execution_count": 8,
   "metadata": {},
   "outputs": [],
   "source": [
    "hillshade = utils.calculate_hillshade(dem)"
   ]
  },
  {
   "cell_type": "code",
   "execution_count": 9,
   "metadata": {},
   "outputs": [
    {
     "data": {
      "image/png": "[encoded data removed]",
      "text/plain": [
       "<Figure size 374.4x360 with 2 Axes>"
      ]
     },
     "metadata": {},
     "output_type": "display_data"
    }
   ],
   "source": [
    "utils.plot_map({'ras':dem, 'meta':meta, 'bground': hillshade}, loc=df, title='SampleDEM')"
   ]
  },
  {
   "cell_type": "markdown",
   "metadata": {},
   "source": [
    "### create one iteration"
   ]
  },
  {
   "cell_type": "code",
   "execution_count": 10,
   "metadata": {
    "collapsed": true,
    "scrolled": true
   },
   "outputs": [
    {
     "name": "stdout",
     "output_type": "stream",
     "text": [
      "\n",
      " No corrections or errors !! \n"
     ]
    }
   ],
   "source": [
    "# check values\n",
    "df = ng.setup(df)"
   ]
  },
  {
   "cell_type": "code",
   "execution_count": 11,
   "metadata": {
    "collapsed": true,
    "scrolled": true
   },
   "outputs": [
    {
     "name": "stdout",
     "output_type": "stream",
     "text": [
      "\n",
      " iteration broken per group....\n",
      "\n",
      "   group iter_type  num_iter  num_loc\n",
      "0      1    sample       100        6\n",
      "\n",
      " total number of iterations.... 100\n"
     ]
    }
   ],
   "source": [
    "# create network generator\n",
    "netgentor, net_info, total_iterations = ng.create_network_generator(df)"
   ]
  },
  {
   "cell_type": "code",
   "execution_count": 12,
   "metadata": {
    "collapsed": true,
    "scrolled": true
   },
   "outputs": [
    {
     "name": "stdout",
     "output_type": "stream",
     "text": [
      "\n",
      "first iteration:  [(1, 5, 3, 0, 4, 2)]\n"
     ]
    }
   ],
   "source": [
    "# generate one sample iteration\n",
    "iter_id = 1\n",
    "net_iteration = list(next(netgentor))\n",
    "print('\\nfirst iteration: ',net_iteration)"
   ]
  },
  {
   "cell_type": "code",
   "execution_count": 13,
   "metadata": {
    "collapsed": true,
    "scrolled": true
   },
   "outputs": [
    {
     "data": {
      "text/html": [
       "<div>\n",
       "<style scoped>\n",
       "    .dataframe tbody tr th:only-of-type {\n",
       "        vertical-align: middle;\n",
       "    }\n",
       "\n",
       "    .dataframe tbody tr th {\n",
       "        vertical-align: top;\n",
       "    }\n",
       "\n",
       "    .dataframe thead th {\n",
       "        text-align: right;\n",
       "    }\n",
       "</style>\n",
       "<table border=\"1\" class=\"dataframe\">\n",
       "  <thead>\n",
       "    <tr style=\"text-align: right;\">\n",
       "      <th></th>\n",
       "      <th>origin</th>\n",
       "      <th>destination</th>\n",
       "      <th>iteration</th>\n",
       "    </tr>\n",
       "  </thead>\n",
       "  <tbody>\n",
       "    <tr>\n",
       "      <th>0</th>\n",
       "      <td>1</td>\n",
       "      <td>5</td>\n",
       "      <td>1</td>\n",
       "    </tr>\n",
       "    <tr>\n",
       "      <th>1</th>\n",
       "      <td>5</td>\n",
       "      <td>3</td>\n",
       "      <td>1</td>\n",
       "    </tr>\n",
       "    <tr>\n",
       "      <th>2</th>\n",
       "      <td>3</td>\n",
       "      <td>0</td>\n",
       "      <td>1</td>\n",
       "    </tr>\n",
       "    <tr>\n",
       "      <th>3</th>\n",
       "      <td>0</td>\n",
       "      <td>4</td>\n",
       "      <td>1</td>\n",
       "    </tr>\n",
       "    <tr>\n",
       "      <th>4</th>\n",
       "      <td>4</td>\n",
       "      <td>2</td>\n",
       "      <td>1</td>\n",
       "    </tr>\n",
       "    <tr>\n",
       "      <th>5</th>\n",
       "      <td>2</td>\n",
       "      <td>1</td>\n",
       "      <td>1</td>\n",
       "    </tr>\n",
       "  </tbody>\n",
       "</table>\n",
       "</div>"
      ],
      "text/plain": [
       "   origin  destination  iteration\n",
       "0       1            5          1\n",
       "1       5            3          1\n",
       "2       3            0          1\n",
       "3       0            4          1\n",
       "4       4            2          1\n",
       "5       2            1          1"
      ]
     },
     "execution_count": 13,
     "metadata": {},
     "output_type": "execute_result"
    }
   ],
   "source": [
    "# create path network layout for iteration\n",
    "df_net = ng.network_layout(df, net_iteration, iter_id, opt='close')\n",
    "df_net"
   ]
  },
  {
   "cell_type": "markdown",
   "metadata": {},
   "source": [
    "## Simulation"
   ]
  },
  {
   "cell_type": "markdown",
   "metadata": {},
   "source": [
    "##### *find coefficients for gradient to cost function*"
   ]
  },
  {
   "cell_type": "code",
   "execution_count": 14,
   "metadata": {},
   "outputs": [],
   "source": [
    "# vertical factor table\n",
    "vftfn = r'..\\data\\iwdt\\grad2cost.csv'\n",
    "\n",
    "# read file slope (tan) to cost\n",
    "vft = np.genfromtxt(vftfn, delimiter=',')"
   ]
  },
  {
   "cell_type": "code",
   "execution_count": 15,
   "metadata": {},
   "outputs": [
    {
     "data": {
      "text/plain": [
       "array([ 14.58472386, -20.89105302,  41.30992529,  16.89952776,\n",
       "         2.57058679])"
      ]
     },
     "execution_count": 15,
     "metadata": {},
     "output_type": "execute_result"
    }
   ],
   "source": [
    "# fit values to 4th degree polynomial and return coefficients\n",
    "coef = np.polyfit(np.tan(np.radians(vft[: , 0])), vft[:,1], deg=4)\n",
    "coef"
   ]
  },
  {
   "cell_type": "markdown",
   "metadata": {},
   "source": [
    "#### Set up cost dictionary"
   ]
  },
  {
   "cell_type": "code",
   "execution_count": 16,
   "metadata": {},
   "outputs": [],
   "source": [
    "cost_dict={\n",
    "    'dem': dem,\n",
    "    'netcost': np.zeros_like(dem),\n",
    "    'cellsize': cellsize,\n",
    "    'weight': 0.2,\n",
    "    'coef': coef\n",
    "}"
   ]
  },
  {
   "cell_type": "markdown",
   "metadata": {},
   "source": [
    "#### Set up netsim dictionary"
   ]
  },
  {
   "cell_type": "markdown",
   "metadata": {},
   "source": [
    "##### *calculate $\\alpha$ for given $d_0$ and $NC_0$*"
   ]
  },
  {
   "cell_type": "code",
   "execution_count": 17,
   "metadata": {},
   "outputs": [],
   "source": [
    "from math import log"
   ]
  },
  {
   "cell_type": "code",
   "execution_count": 18,
   "metadata": {},
   "outputs": [],
   "source": [
    "d0 = 10 # distance @ which \n",
    "NC0 = 0.5  # cost is only beta\n",
    "alpha = d0 / log(1- NC0)"
   ]
  },
  {
   "cell_type": "code",
   "execution_count": 19,
   "metadata": {},
   "outputs": [],
   "source": [
    "netsim_dict= {\n",
    "    'i': 1.0,      # path impact\n",
    "    'Gmax': 5.0,   # path saturation\n",
    "    'T': 10,     # residuality index\n",
    "    'alpha': alpha # decay factor \n",
    "    }"
   ]
  },
  {
   "cell_type": "markdown",
   "metadata": {},
   "source": [
    "#### Run Simulation"
   ]
  },
  {
   "cell_type": "code",
   "execution_count": 21,
   "metadata": {},
   "outputs": [],
   "source": [
    "g, paths, netpaths = ns.simulation(df, df_net, cost_dict, netsim_dict)"
   ]
  },
  {
   "cell_type": "markdown",
   "metadata": {},
   "source": [
    "##### Plot results"
   ]
  },
  {
   "cell_type": "code",
   "execution_count": 32,
   "metadata": {},
   "outputs": [],
   "source": [
    "def plot_map(raster, loc= None, title= None, figsize= (5,5), cmap= 'viridis', cbar= False, save= None, **kwother):\n",
    "    '''\n",
    "    Basic raster plot.\n",
    "    \n",
    "    Parameters\n",
    "    ----------\n",
    "    \n",
    "    ras: dictionary\n",
    "        dictionary must have at least two entries: 'ras', 2D numpy array representing a raster; 'meta', meta\n",
    "        information (from *rasterio*) about the raster. Optional entries are 'bground', a 2D numpy array\n",
    "        representing a background raster and 'paths', representing a network of paths (it assumed that 'ras'\n",
    "        represents a DEM).\n",
    "    \n",
    "    loc: dictionary or geodataframe\n",
    "        used to identify point locations. if dictionary then it must have at leat two entries: 'df', identifying\n",
    "        geopandas framework holding point data, 'label', name of the column in 'df' used to labelling points.\n",
    "    \n",
    "    title: string\n",
    "        if not empty then title to be used when displaying ras\n",
    "    \n",
    "    figsize: tuple\n",
    "        Size of figure. *Default*: (5,5)\n",
    "    \n",
    "    cmap: string\n",
    "        name of the matplotlib colormap. *Default*: 'viridis'\n",
    "    \n",
    "    cbar: boolean\n",
    "        if True colorbar is displayed. *Default*: False\n",
    "    \n",
    "    save: string\n",
    "        if not empty then name of the output image (default is None)\n",
    "        \n",
    "    Returns\n",
    "    -------\n",
    "    None\n",
    "        \n",
    "    '''\n",
    "    import matplotlib as mpl\n",
    "    import matplotlib.pyplot as plt\n",
    "    \n",
    "    # default\n",
    "    alpha = 1.0   \n",
    "    \n",
    "    # figure\n",
    "    if cmap:\n",
    "       cmap = mpl.cm.get_cmap(cmap)\n",
    "    \n",
    "    if cbar: # colorbar?       \n",
    "        wcbar = 0.03\n",
    "        gridspec_kw={'width_ratios':[1,wcbar], 'wspace': 0.05}\n",
    "        fig, (ax, cax) = plt.subplots(ncols = 2, figsize= (figsize[1] + figsize[1]*wcbar, figsize[0]), gridspec_kw=gridspec_kw)\n",
    "    else:\n",
    "        fig, ax = plt.subplots(ncols = 1, figsize= figsize)\n",
    "\n",
    "    # raster    \n",
    "    if isinstance(raster, dict):\n",
    "        if set(['ras', 'meta']) <= set(raster.keys()):\n",
    "            \n",
    "            # default\n",
    "            img = raster['ras']\n",
    "            \n",
    "            # calculate extension\n",
    "            bounds = raster['meta']['bounds']\n",
    "            extent = [bounds.left, bounds.right, bounds.bottom, bounds.top]\n",
    "            \n",
    "            # background image?\n",
    "            if 'bground' in raster.keys():\n",
    "                alpha = 0.5\n",
    "                im2 = ax.imshow(raster['bground'], extent= extent, origin='upper', cmap= mpl.cm.get_cmap('Greys'))\n",
    "\n",
    "            # paths overlay?    \n",
    "            if 'paths' in raster.keys():\n",
    "                ax.contourf(img, 6, extent=extent, origin= 'upper', cmap= mpl.cm.get_cmap('Purples'), alpha=0.4)\n",
    "                img = np.ma.array(raster['paths'], mask= raster['paths'] == 0.0)\n",
    "                \n",
    "            # plot main raster\n",
    "            im = ax.imshow(img, origin= 'upper', cmap= cmap, extent= extent, alpha= alpha)\n",
    "            \n",
    "            # colorbar?\n",
    "            if cbar:\n",
    "                fig.colorbar(im, cax= cax)\n",
    "        else:\n",
    "            raise Exception('raster is missing  ''\"ras\"'' and/or ''\"meta\"'' keys! ')\n",
    "    else:\n",
    "        raise Exception('raster must be a dictionary')\n",
    "    \n",
    "    if title:\n",
    "        ax.set_title(title)\n",
    "        \n",
    "    # locations?\n",
    "    if not loc is None:\n",
    "        # is it a dictionary?\n",
    "        if isinstance(loc, dict):\n",
    "            if set(['df', 'label']) <= set(loc.keys()):\n",
    "                xs, ys = loc['df']['geometry'].x.values, loc['df']['geometry'].y.values\n",
    "                labels = loc['df'][loc['label']].values\n",
    "                data = zip(labels, xs, ys )  \n",
    "                ax.scatter(xs,ys, color='lightgray')        \n",
    "                for id, x, y in data:\n",
    "                    ax.annotate(str(id), xy=(x,y), color='lightgray', xytext= (2.5,2.5), textcoords='offset points')                \n",
    "            else:\n",
    "                 raise Exception('Loc does not have the right keys!')\n",
    "        else:\n",
    "             if isinstance(loc, gpd.geodataframe.GeoDataFrame):\n",
    "                    xs, ys = loc['geometry'].x.values, loc['geometry'].y.values\n",
    "                    data = zip(xs, ys)\n",
    "                    ax.scatter(xs,ys, color='lightgray')        \n",
    "             else:\n",
    "                raise Exception('Not a dictionary or dataframe!!')\n",
    "\n",
    "    # saving output?\n",
    "    if save:\n",
    "        output= save+'.png'      \n",
    "        plt.savefig(fname= output, dpi= 300)\n",
    "\n",
    "    plt.show()"
   ]
  },
  {
   "cell_type": "code",
   "execution_count": 33,
   "metadata": {},
   "outputs": [
    {
     "data": {
      "image/png": "[encoded data removed]",
      "text/plain": [
       "<Figure size 288x288 with 1 Axes>"
      ]
     },
     "metadata": {},
     "output_type": "display_data"
    }
   ],
   "source": [
    "plot_map({'ras':dem, 'meta':meta, 'paths':paths}, loc={'df':df, 'label':'id'}, figsize=(4,4), cmap='magma')"
   ]
  },
  {
   "cell_type": "code",
   "execution_count": null,
   "metadata": {},
   "outputs": [],
   "source": []
  }
 ],
 "metadata": {
  "kernelspec": {
   "display_name": "Python 3",
   "language": "python",
   "name": "python3"
  },
  "language_info": {
   "codemirror_mode": {
    "name": "ipython",
    "version": 3
   },
   "file_extension": ".py",
   "mimetype": "text/x-python",
   "name": "python",
   "nbconvert_exporter": "python",
   "pygments_lexer": "ipython3",
   "version": "3.6.5"
  }
 },
 "nbformat": 4,
 "nbformat_minor": 2
}
