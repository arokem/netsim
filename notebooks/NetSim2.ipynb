{
 "cells": [
  {
   "cell_type": "markdown",
   "metadata": {},
   "source": [
    "# Tutorial 4. Network Simulation"
   ]
  },
  {
   "cell_type": "markdown",
   "metadata": {},
   "source": [
    "In this tutorial I show how we can combine several simulation iterations in order to find out what would have been the most likely paths."
   ]
  },
  {
   "cell_type": "markdown",
   "metadata": {},
   "source": [
    "### imports"
   ]
  },
  {
   "cell_type": "code",
   "execution_count": 1,
   "metadata": {},
   "outputs": [],
   "source": [
    "import netsim.generate as ng\n",
    "import netsim.utils as utils\n",
    "import netsim.path_tools as ptools\n",
    "import netsim.simulate as ns\n",
    "import geopandas as gpd\n",
    "import pandas as pd\n",
    "import numpy as np\n",
    "import rasterio as ro"
   ]
  },
  {
   "cell_type": "markdown",
   "metadata": {},
   "source": [
    "### Reading files"
   ]
  },
  {
   "cell_type": "markdown",
   "metadata": {},
   "source": [
    "#### *Read DEM*"
   ]
  },
  {
   "cell_type": "code",
   "execution_count": 2,
   "metadata": {},
   "outputs": [],
   "source": [
    "fn = r'..\\data\\sample\\sampleDEM.tif'"
   ]
  },
  {
   "cell_type": "code",
   "execution_count": 3,
   "metadata": {},
   "outputs": [],
   "source": [
    "dem, profile = utils.read_raster(fn)"
   ]
  },
  {
   "cell_type": "code",
   "execution_count": 4,
   "metadata": {},
   "outputs": [],
   "source": [
    "#find the cellsize of the dem\n",
    "cellsize = profile['transform'].a"
   ]
  },
  {
   "cell_type": "markdown",
   "metadata": {},
   "source": [
    "#### *Read shapefile into a geopandas dataframe*"
   ]
  },
  {
   "cell_type": "code",
   "execution_count": 5,
   "metadata": {},
   "outputs": [],
   "source": [
    "# change 5 or 15\n",
    "fn = r'..\\data\\sample\\sample5.shp'"
   ]
  },
  {
   "cell_type": "markdown",
   "metadata": {},
   "source": [
    "##### read and make a copy of original dataframe"
   ]
  },
  {
   "cell_type": "code",
   "execution_count": 6,
   "metadata": {},
   "outputs": [
    {
     "data": {
      "text/html": [
       "<div>\n",
       "<style scoped>\n",
       "    .dataframe tbody tr th:only-of-type {\n",
       "        vertical-align: middle;\n",
       "    }\n",
       "\n",
       "    .dataframe tbody tr th {\n",
       "        vertical-align: top;\n",
       "    }\n",
       "\n",
       "    .dataframe thead th {\n",
       "        text-align: right;\n",
       "    }\n",
       "</style>\n",
       "<table border=\"1\" class=\"dataframe\">\n",
       "  <thead>\n",
       "    <tr style=\"text-align: right;\">\n",
       "      <th></th>\n",
       "      <th>id</th>\n",
       "      <th>seq</th>\n",
       "      <th>group</th>\n",
       "      <th>mix</th>\n",
       "      <th>easting</th>\n",
       "      <th>northing</th>\n",
       "      <th>geometry</th>\n",
       "    </tr>\n",
       "  </thead>\n",
       "  <tbody>\n",
       "    <tr>\n",
       "      <th>0</th>\n",
       "      <td>0</td>\n",
       "      <td>1</td>\n",
       "      <td>1</td>\n",
       "      <td>0</td>\n",
       "      <td>530782</td>\n",
       "      <td>4389390</td>\n",
       "      <td>POINT (530782 4389390)</td>\n",
       "    </tr>\n",
       "    <tr>\n",
       "      <th>1</th>\n",
       "      <td>1</td>\n",
       "      <td>1</td>\n",
       "      <td>1</td>\n",
       "      <td>0</td>\n",
       "      <td>531119</td>\n",
       "      <td>4388860</td>\n",
       "      <td>POINT (531119 4388860)</td>\n",
       "    </tr>\n",
       "    <tr>\n",
       "      <th>2</th>\n",
       "      <td>2</td>\n",
       "      <td>1</td>\n",
       "      <td>1</td>\n",
       "      <td>0</td>\n",
       "      <td>530403</td>\n",
       "      <td>4388580</td>\n",
       "      <td>POINT (530403 4388580)</td>\n",
       "    </tr>\n",
       "    <tr>\n",
       "      <th>3</th>\n",
       "      <td>3</td>\n",
       "      <td>1</td>\n",
       "      <td>1</td>\n",
       "      <td>0</td>\n",
       "      <td>530503</td>\n",
       "      <td>4388620</td>\n",
       "      <td>POINT (530503 4388620)</td>\n",
       "    </tr>\n",
       "    <tr>\n",
       "      <th>4</th>\n",
       "      <td>4</td>\n",
       "      <td>1</td>\n",
       "      <td>1</td>\n",
       "      <td>0</td>\n",
       "      <td>530729</td>\n",
       "      <td>4388930</td>\n",
       "      <td>POINT (530729 4388930)</td>\n",
       "    </tr>\n",
       "    <tr>\n",
       "      <th>5</th>\n",
       "      <td>5</td>\n",
       "      <td>1</td>\n",
       "      <td>1</td>\n",
       "      <td>0</td>\n",
       "      <td>530606</td>\n",
       "      <td>4389150</td>\n",
       "      <td>POINT (530606 4389150)</td>\n",
       "    </tr>\n",
       "  </tbody>\n",
       "</table>\n",
       "</div>"
      ],
      "text/plain": [
       "   id  seq  group  mix  easting  northing                geometry\n",
       "0   0    1      1    0   530782   4389390  POINT (530782 4389390)\n",
       "1   1    1      1    0   531119   4388860  POINT (531119 4388860)\n",
       "2   2    1      1    0   530403   4388580  POINT (530403 4388580)\n",
       "3   3    1      1    0   530503   4388620  POINT (530503 4388620)\n",
       "4   4    1      1    0   530729   4388930  POINT (530729 4388930)\n",
       "5   5    1      1    0   530606   4389150  POINT (530606 4389150)"
      ]
     },
     "execution_count": 6,
     "metadata": {},
     "output_type": "execute_result"
    }
   ],
   "source": [
    "df_temp = gpd.read_file(fn)\n",
    "\n",
    "# make a copy\n",
    "df = df_temp.copy(deep=True)\n",
    "df"
   ]
  },
  {
   "cell_type": "markdown",
   "metadata": {},
   "source": [
    "### Preliminaries"
   ]
  },
  {
   "cell_type": "markdown",
   "metadata": {},
   "source": [
    "#### *Convert point coordinates into rows and column and add to dataframe*"
   ]
  },
  {
   "cell_type": "code",
   "execution_count": 7,
   "metadata": {},
   "outputs": [
    {
     "data": {
      "text/html": [
       "<div>\n",
       "<style scoped>\n",
       "    .dataframe tbody tr th:only-of-type {\n",
       "        vertical-align: middle;\n",
       "    }\n",
       "\n",
       "    .dataframe tbody tr th {\n",
       "        vertical-align: top;\n",
       "    }\n",
       "\n",
       "    .dataframe thead th {\n",
       "        text-align: right;\n",
       "    }\n",
       "</style>\n",
       "<table border=\"1\" class=\"dataframe\">\n",
       "  <thead>\n",
       "    <tr style=\"text-align: right;\">\n",
       "      <th></th>\n",
       "      <th>id</th>\n",
       "      <th>seq</th>\n",
       "      <th>group</th>\n",
       "      <th>mix</th>\n",
       "      <th>easting</th>\n",
       "      <th>northing</th>\n",
       "      <th>geometry</th>\n",
       "      <th>r</th>\n",
       "      <th>c</th>\n",
       "    </tr>\n",
       "  </thead>\n",
       "  <tbody>\n",
       "    <tr>\n",
       "      <th>0</th>\n",
       "      <td>0</td>\n",
       "      <td>1</td>\n",
       "      <td>1</td>\n",
       "      <td>0</td>\n",
       "      <td>530782</td>\n",
       "      <td>4389390</td>\n",
       "      <td>POINT (530782 4389390)</td>\n",
       "      <td>18</td>\n",
       "      <td>104</td>\n",
       "    </tr>\n",
       "    <tr>\n",
       "      <th>1</th>\n",
       "      <td>1</td>\n",
       "      <td>1</td>\n",
       "      <td>1</td>\n",
       "      <td>0</td>\n",
       "      <td>531119</td>\n",
       "      <td>4388860</td>\n",
       "      <td>POINT (531119 4388860)</td>\n",
       "      <td>124</td>\n",
       "      <td>171</td>\n",
       "    </tr>\n",
       "    <tr>\n",
       "      <th>2</th>\n",
       "      <td>2</td>\n",
       "      <td>1</td>\n",
       "      <td>1</td>\n",
       "      <td>0</td>\n",
       "      <td>530403</td>\n",
       "      <td>4388580</td>\n",
       "      <td>POINT (530403 4388580)</td>\n",
       "      <td>180</td>\n",
       "      <td>28</td>\n",
       "    </tr>\n",
       "    <tr>\n",
       "      <th>3</th>\n",
       "      <td>3</td>\n",
       "      <td>1</td>\n",
       "      <td>1</td>\n",
       "      <td>0</td>\n",
       "      <td>530503</td>\n",
       "      <td>4388620</td>\n",
       "      <td>POINT (530503 4388620)</td>\n",
       "      <td>172</td>\n",
       "      <td>48</td>\n",
       "    </tr>\n",
       "    <tr>\n",
       "      <th>4</th>\n",
       "      <td>4</td>\n",
       "      <td>1</td>\n",
       "      <td>1</td>\n",
       "      <td>0</td>\n",
       "      <td>530729</td>\n",
       "      <td>4388930</td>\n",
       "      <td>POINT (530729 4388930)</td>\n",
       "      <td>110</td>\n",
       "      <td>93</td>\n",
       "    </tr>\n",
       "    <tr>\n",
       "      <th>5</th>\n",
       "      <td>5</td>\n",
       "      <td>1</td>\n",
       "      <td>1</td>\n",
       "      <td>0</td>\n",
       "      <td>530606</td>\n",
       "      <td>4389150</td>\n",
       "      <td>POINT (530606 4389150)</td>\n",
       "      <td>66</td>\n",
       "      <td>68</td>\n",
       "    </tr>\n",
       "  </tbody>\n",
       "</table>\n",
       "</div>"
      ],
      "text/plain": [
       "   id  seq  group  mix  easting  northing                geometry    r    c\n",
       "0   0    1      1    0   530782   4389390  POINT (530782 4389390)   18  104\n",
       "1   1    1      1    0   531119   4388860  POINT (531119 4388860)  124  171\n",
       "2   2    1      1    0   530403   4388580  POINT (530403 4388580)  180   28\n",
       "3   3    1      1    0   530503   4388620  POINT (530503 4388620)  172   48\n",
       "4   4    1      1    0   530729   4388930  POINT (530729 4388930)  110   93\n",
       "5   5    1      1    0   530606   4389150  POINT (530606 4389150)   66   68"
      ]
     },
     "execution_count": 7,
     "metadata": {},
     "output_type": "execute_result"
    }
   ],
   "source": [
    "df['r'], df['c'] = utils.pt2rc(df['geometry'], profile)\n",
    "df"
   ]
  },
  {
   "cell_type": "code",
   "execution_count": 9,
   "metadata": {
    "collapsed": true,
    "scrolled": true
   },
   "outputs": [
    {
     "name": "stdout",
     "output_type": "stream",
     "text": [
      "\n",
      " No corrections or errors !! \n"
     ]
    }
   ],
   "source": [
    "# check values\n",
    "df = ng.check(df)"
   ]
  },
  {
   "cell_type": "markdown",
   "metadata": {},
   "source": [
    "#### *Plot locations*"
   ]
  },
  {
   "cell_type": "code",
   "execution_count": 10,
   "metadata": {},
   "outputs": [],
   "source": [
    "hillshade = utils.calculate_hillshade(dem)"
   ]
  },
  {
   "cell_type": "code",
   "execution_count": 11,
   "metadata": {},
   "outputs": [
    {
     "data": {
      "image/png": "[encoded data removed]",
      "text/plain": [
       "<Figure size 360x360 with 1 Axes>"
      ]
     },
     "metadata": {
      "needs_background": "light"
     },
     "output_type": "display_data"
    }
   ],
   "source": [
    "utils.plot_map({'ras':dem, 'profile':profile, 'bground': hillshade}, loc=df, title='SampleDEM')"
   ]
  },
  {
   "cell_type": "markdown",
   "metadata": {},
   "source": [
    "### create network generator"
   ]
  },
  {
   "cell_type": "code",
   "execution_count": 12,
   "metadata": {
    "collapsed": true,
    "scrolled": true
   },
   "outputs": [
    {
     "name": "stdout",
     "output_type": "stream",
     "text": [
      "\n",
      " iteration broken per group....\n",
      "\n",
      "   group  num_loc  num_iter iter_type\n",
      "0      1        6       100    sample\n",
      "\n",
      " total number of iterations.... 100\n"
     ]
    }
   ],
   "source": [
    "# create network generator\n",
    "netgentor, net_info, total_iterations = ng.create_network_generator(df)"
   ]
  },
  {
   "cell_type": "markdown",
   "metadata": {},
   "source": [
    "### Setup Simulation"
   ]
  },
  {
   "cell_type": "markdown",
   "metadata": {},
   "source": [
    "##### *find coefficients for gradient to cost function*"
   ]
  },
  {
   "cell_type": "code",
   "execution_count": 14,
   "metadata": {},
   "outputs": [],
   "source": [
    "# vertical factor table\n",
    "vftfn = r'..\\data\\iwdt\\grad2cost.csv'\n",
    "\n",
    "# read file slope (tan) to cost\n",
    "vft = np.genfromtxt(vftfn, delimiter=',')"
   ]
  },
  {
   "cell_type": "code",
   "execution_count": 15,
   "metadata": {},
   "outputs": [
    {
     "data": {
      "text/plain": [
       "array([ 14.58472386, -20.89105302,  41.30992529,  16.89952776,\n",
       "         2.57058679])"
      ]
     },
     "execution_count": 15,
     "metadata": {},
     "output_type": "execute_result"
    }
   ],
   "source": [
    "# fit values to 4th degree polynomial and return coefficients\n",
    "coef = np.polyfit(np.tan(np.radians(vft[: , 0])), vft[:,1], deg=4)\n",
    "coef"
   ]
  },
  {
   "cell_type": "markdown",
   "metadata": {},
   "source": [
    "##### Set up cost dictionary"
   ]
  },
  {
   "cell_type": "code",
   "execution_count": 16,
   "metadata": {},
   "outputs": [],
   "source": [
    "cost_dict={\n",
    "    'dem': dem,\n",
    "    'netcost': np.zeros_like(dem),\n",
    "    'cellsize': cellsize,\n",
    "    'weight': 0.5,\n",
    "    'coef': coef\n",
    "}"
   ]
  },
  {
   "cell_type": "markdown",
   "metadata": {},
   "source": [
    "##### Set up netsim dictionary"
   ]
  },
  {
   "cell_type": "markdown",
   "metadata": {},
   "source": [
    "##### *calculate decay factor $\\alpha$ for given $d_0$ and $NC_0$*\n",
    "\n",
    "We shall specify that at a distance of $d_0$=10m the network cost (i.e. the effect of the existing network) will decrease to $\\frac{1}{2} $.  "
   ]
  },
  {
   "cell_type": "code",
   "execution_count": 17,
   "metadata": {},
   "outputs": [],
   "source": [
    "from math import log\n",
    "\n",
    "d0 = 10 # distance @ which \n",
    "NC0 = 0.5  # cost reduces to 50%\n",
    "alpha = d0 / log(1- NC0)"
   ]
  },
  {
   "cell_type": "code",
   "execution_count": 18,
   "metadata": {},
   "outputs": [],
   "source": [
    "netsim_dict= {\n",
    "    'i': 1.0,      # path impact\n",
    "    'Gmax': 5.0,   # path saturation\n",
    "    'T': 10,       # residuality \n",
    "    'alpha': alpha # decay factor \n",
    "    }"
   ]
  },
  {
   "cell_type": "markdown",
   "metadata": {},
   "source": [
    "#### Run *nsim* simulations"
   ]
  },
  {
   "cell_type": "code",
   "execution_count": 19,
   "metadata": {},
   "outputs": [],
   "source": [
    "progress = lambda i, n=10: print (i//n, end = \"\") if i % n == 0 else print('.', end = \"\")"
   ]
  },
  {
   "cell_type": "code",
   "execution_count": 20,
   "metadata": {},
   "outputs": [],
   "source": [
    "# number of iterations \n",
    "nsim = 2"
   ]
  },
  {
   "cell_type": "markdown",
   "metadata": {},
   "source": [
    "##### initialize variables"
   ]
  },
  {
   "cell_type": "code",
   "execution_count": 21,
   "metadata": {},
   "outputs": [],
   "source": [
    "all_path_lst = []\n",
    "all_paths = np.zeros_like(dem, dtype=np.float64)\n",
    "prev_id = 0\n",
    "save_flag = False\n",
    "save_fn =  './all_paths'"
   ]
  },
  {
   "cell_type": "markdown",
   "metadata": {},
   "source": [
    "##### run simulations"
   ]
  },
  {
   "cell_type": "code",
   "execution_count": 22,
   "metadata": {
    "collapsed": true,
    "scrolled": true
   },
   "outputs": [
    {
     "name": "stdout",
     "output_type": "stream",
     "text": [
      "0."
     ]
    }
   ],
   "source": [
    "for isim in range(nsim):\n",
    "    \n",
    "    # progress\n",
    "    progress(isim)\n",
    "    \n",
    "    # generate network iteration\n",
    "    net_iteration = list(next(netgentor))\n",
    "    \n",
    "    # create path network layout for current iteration\n",
    "    df_net = ng.network_layout(df, net_iteration, isim, opt='decentral')\n",
    "    \n",
    "    # simulate network\n",
    "    _, paths, path_lst = ns.simulation(df, df_net, cost_dict, netsim_dict)\n",
    "    \n",
    "    # add current iteration path list to that of previous iterations \n",
    "    for pth in path_lst:\n",
    "        pth['id'] += len(all_path_lst)\n",
    "    all_path_lst += path_lst\n",
    "    \n",
    "    # generate dataframe output\n",
    "    df_paths = pd.DataFrame(all_path_lst, columns=['id', 'origin','destination', 'track'])\n",
    "    \n",
    "    # add current path network to path networks from previous iterations\n",
    "    all_paths += paths\n",
    "    \n",
    "    if save_flag:\n",
    "        df_paths.to_pickle(save_fn)\n",
    "        with ro.open( save_fn+'.tif', 'w', **profile) as ras:\n",
    "            ras.write(all_paths, 1)"
   ]
  },
  {
   "cell_type": "code",
   "execution_count": 23,
   "metadata": {},
   "outputs": [
    {
     "data": {
      "image/png": "[encoded data removed]",
      "text/plain": [
       "<Figure size 360x360 with 1 Axes>"
      ]
     },
     "metadata": {
      "needs_background": "light"
     },
     "output_type": "display_data"
    }
   ],
   "source": [
    "utils.plot_map({'ras':all_paths, 'profile':profile}, loc=df, title='All Paths', cmap= 'inferno_r')"
   ]
  },
  {
   "cell_type": "code",
   "execution_count": 24,
   "metadata": {},
   "outputs": [
    {
     "data": {
      "text/html": [
       "<div>\n",
       "<style scoped>\n",
       "    .dataframe tbody tr th:only-of-type {\n",
       "        vertical-align: middle;\n",
       "    }\n",
       "\n",
       "    .dataframe tbody tr th {\n",
       "        vertical-align: top;\n",
       "    }\n",
       "\n",
       "    .dataframe thead th {\n",
       "        text-align: right;\n",
       "    }\n",
       "</style>\n",
       "<table border=\"1\" class=\"dataframe\">\n",
       "  <thead>\n",
       "    <tr style=\"text-align: right;\">\n",
       "      <th></th>\n",
       "      <th>id</th>\n",
       "      <th>origin</th>\n",
       "      <th>destination</th>\n",
       "      <th>track</th>\n",
       "    </tr>\n",
       "  </thead>\n",
       "  <tbody>\n",
       "    <tr>\n",
       "      <th>0</th>\n",
       "      <td>1</td>\n",
       "      <td>[66, 68]</td>\n",
       "      <td>[110, 93]</td>\n",
       "      <td>[[110, 109, 108, 107, 106, 105, 104, 103, 102,...</td>\n",
       "    </tr>\n",
       "    <tr>\n",
       "      <th>1</th>\n",
       "      <td>2</td>\n",
       "      <td>[66, 68]</td>\n",
       "      <td>[180, 28]</td>\n",
       "      <td>[[180, 179, 178, 177, 176, 175, 174, 173, 172,...</td>\n",
       "    </tr>\n",
       "    <tr>\n",
       "      <th>2</th>\n",
       "      <td>3</td>\n",
       "      <td>[66, 68]</td>\n",
       "      <td>[124, 171]</td>\n",
       "      <td>[[124, 124, 123, 123, 122, 122, 121, 121, 120,...</td>\n",
       "    </tr>\n",
       "    <tr>\n",
       "      <th>3</th>\n",
       "      <td>4</td>\n",
       "      <td>[66, 68]</td>\n",
       "      <td>[172, 48]</td>\n",
       "      <td>[[172, 171, 170, 169, 168, 167, 166, 165, 164,...</td>\n",
       "    </tr>\n",
       "    <tr>\n",
       "      <th>4</th>\n",
       "      <td>5</td>\n",
       "      <td>[66, 68]</td>\n",
       "      <td>[18, 104]</td>\n",
       "      <td>[[18, 19, 20, 21, 22, 23, 24, 25, 26, 27, 28, ...</td>\n",
       "    </tr>\n",
       "    <tr>\n",
       "      <th>5</th>\n",
       "      <td>6</td>\n",
       "      <td>[110, 93]</td>\n",
       "      <td>[180, 28]</td>\n",
       "      <td>[[180, 179, 178, 177, 176, 175, 174, 173, 172,...</td>\n",
       "    </tr>\n",
       "    <tr>\n",
       "      <th>6</th>\n",
       "      <td>7</td>\n",
       "      <td>[110, 93]</td>\n",
       "      <td>[124, 171]</td>\n",
       "      <td>[[124, 124, 123, 123, 122, 122, 121, 121, 120,...</td>\n",
       "    </tr>\n",
       "    <tr>\n",
       "      <th>7</th>\n",
       "      <td>8</td>\n",
       "      <td>[110, 93]</td>\n",
       "      <td>[172, 48]</td>\n",
       "      <td>[[172, 171, 170, 169, 168, 167, 166, 165, 164,...</td>\n",
       "    </tr>\n",
       "    <tr>\n",
       "      <th>8</th>\n",
       "      <td>9</td>\n",
       "      <td>[110, 93]</td>\n",
       "      <td>[18, 104]</td>\n",
       "      <td>[[18, 19, 20, 21, 22, 23, 24, 25, 26, 27, 28, ...</td>\n",
       "    </tr>\n",
       "    <tr>\n",
       "      <th>9</th>\n",
       "      <td>10</td>\n",
       "      <td>[180, 28]</td>\n",
       "      <td>[124, 171]</td>\n",
       "      <td>[[124, 124, 123, 123, 122, 122, 121, 121, 120,...</td>\n",
       "    </tr>\n",
       "    <tr>\n",
       "      <th>10</th>\n",
       "      <td>11</td>\n",
       "      <td>[180, 28]</td>\n",
       "      <td>[172, 48]</td>\n",
       "      <td>[[172, 171, 171, 171, 170, 170, 169, 169, 168,...</td>\n",
       "    </tr>\n",
       "    <tr>\n",
       "      <th>11</th>\n",
       "      <td>12</td>\n",
       "      <td>[180, 28]</td>\n",
       "      <td>[18, 104]</td>\n",
       "      <td>[[18, 19, 20, 21, 22, 23, 24, 25, 26, 27, 28, ...</td>\n",
       "    </tr>\n",
       "    <tr>\n",
       "      <th>12</th>\n",
       "      <td>13</td>\n",
       "      <td>[124, 171]</td>\n",
       "      <td>[172, 48]</td>\n",
       "      <td>[[172, 171, 170, 169, 168, 167, 166, 165, 164,...</td>\n",
       "    </tr>\n",
       "    <tr>\n",
       "      <th>13</th>\n",
       "      <td>14</td>\n",
       "      <td>[124, 171]</td>\n",
       "      <td>[18, 104]</td>\n",
       "      <td>[[18, 19, 20, 21, 22, 23, 24, 25, 26, 27, 28, ...</td>\n",
       "    </tr>\n",
       "    <tr>\n",
       "      <th>14</th>\n",
       "      <td>15</td>\n",
       "      <td>[172, 48]</td>\n",
       "      <td>[18, 104]</td>\n",
       "      <td>[[18, 19, 20, 21, 22, 23, 24, 25, 26, 27, 28, ...</td>\n",
       "    </tr>\n",
       "    <tr>\n",
       "      <th>15</th>\n",
       "      <td>16</td>\n",
       "      <td>[18, 104]</td>\n",
       "      <td>[180, 28]</td>\n",
       "      <td>[[180, 179, 178, 177, 176, 175, 174, 173, 172,...</td>\n",
       "    </tr>\n",
       "    <tr>\n",
       "      <th>16</th>\n",
       "      <td>17</td>\n",
       "      <td>[18, 104]</td>\n",
       "      <td>[172, 48]</td>\n",
       "      <td>[[172, 171, 170, 169, 168, 167, 166, 165, 164,...</td>\n",
       "    </tr>\n",
       "    <tr>\n",
       "      <th>17</th>\n",
       "      <td>18</td>\n",
       "      <td>[18, 104]</td>\n",
       "      <td>[124, 171]</td>\n",
       "      <td>[[124, 123, 122, 121, 120, 119, 118, 117, 116,...</td>\n",
       "    </tr>\n",
       "    <tr>\n",
       "      <th>18</th>\n",
       "      <td>19</td>\n",
       "      <td>[18, 104]</td>\n",
       "      <td>[66, 68]</td>\n",
       "      <td>[[66, 66, 67, 67, 68, 68, 69, 69, 70, 70, 71, ...</td>\n",
       "    </tr>\n",
       "    <tr>\n",
       "      <th>19</th>\n",
       "      <td>20</td>\n",
       "      <td>[18, 104]</td>\n",
       "      <td>[110, 93]</td>\n",
       "      <td>[[110, 109, 108, 107, 106, 105, 104, 103, 102,...</td>\n",
       "    </tr>\n",
       "    <tr>\n",
       "      <th>20</th>\n",
       "      <td>21</td>\n",
       "      <td>[180, 28]</td>\n",
       "      <td>[172, 48]</td>\n",
       "      <td>[[172, 172, 172, 172, 173, 173, 174, 174, 175,...</td>\n",
       "    </tr>\n",
       "    <tr>\n",
       "      <th>21</th>\n",
       "      <td>22</td>\n",
       "      <td>[180, 28]</td>\n",
       "      <td>[124, 171]</td>\n",
       "      <td>[[124, 124, 123, 123, 122, 122, 121, 121, 120,...</td>\n",
       "    </tr>\n",
       "    <tr>\n",
       "      <th>22</th>\n",
       "      <td>23</td>\n",
       "      <td>[180, 28]</td>\n",
       "      <td>[66, 68]</td>\n",
       "      <td>[[66, 66, 67, 67, 68, 69, 70, 71, 72, 73, 74, ...</td>\n",
       "    </tr>\n",
       "    <tr>\n",
       "      <th>23</th>\n",
       "      <td>24</td>\n",
       "      <td>[180, 28]</td>\n",
       "      <td>[110, 93]</td>\n",
       "      <td>[[110, 110, 111, 112, 113, 114, 115, 116, 117,...</td>\n",
       "    </tr>\n",
       "    <tr>\n",
       "      <th>24</th>\n",
       "      <td>25</td>\n",
       "      <td>[172, 48]</td>\n",
       "      <td>[124, 171]</td>\n",
       "      <td>[[124, 124, 124, 124, 124, 123, 123, 122, 122,...</td>\n",
       "    </tr>\n",
       "    <tr>\n",
       "      <th>25</th>\n",
       "      <td>26</td>\n",
       "      <td>[172, 48]</td>\n",
       "      <td>[66, 68]</td>\n",
       "      <td>[[66, 66, 67, 67, 68, 69, 70, 71, 72, 73, 74, ...</td>\n",
       "    </tr>\n",
       "    <tr>\n",
       "      <th>26</th>\n",
       "      <td>27</td>\n",
       "      <td>[172, 48]</td>\n",
       "      <td>[110, 93]</td>\n",
       "      <td>[[110, 110, 111, 112, 113, 114, 115, 116, 117,...</td>\n",
       "    </tr>\n",
       "    <tr>\n",
       "      <th>27</th>\n",
       "      <td>28</td>\n",
       "      <td>[124, 171]</td>\n",
       "      <td>[66, 68]</td>\n",
       "      <td>[[66, 66, 67, 67, 68, 69, 70, 71, 72, 73, 74, ...</td>\n",
       "    </tr>\n",
       "    <tr>\n",
       "      <th>28</th>\n",
       "      <td>29</td>\n",
       "      <td>[124, 171]</td>\n",
       "      <td>[110, 93]</td>\n",
       "      <td>[[110, 110, 110, 110, 110, 110, 110, 110, 110,...</td>\n",
       "    </tr>\n",
       "    <tr>\n",
       "      <th>29</th>\n",
       "      <td>30</td>\n",
       "      <td>[66, 68]</td>\n",
       "      <td>[110, 93]</td>\n",
       "      <td>[[110, 109, 108, 107, 106, 105, 104, 103, 102,...</td>\n",
       "    </tr>\n",
       "  </tbody>\n",
       "</table>\n",
       "</div>"
      ],
      "text/plain": [
       "    id      origin destination  \\\n",
       "0    1    [66, 68]   [110, 93]   \n",
       "1    2    [66, 68]   [180, 28]   \n",
       "2    3    [66, 68]  [124, 171]   \n",
       "3    4    [66, 68]   [172, 48]   \n",
       "4    5    [66, 68]   [18, 104]   \n",
       "5    6   [110, 93]   [180, 28]   \n",
       "6    7   [110, 93]  [124, 171]   \n",
       "7    8   [110, 93]   [172, 48]   \n",
       "8    9   [110, 93]   [18, 104]   \n",
       "9   10   [180, 28]  [124, 171]   \n",
       "10  11   [180, 28]   [172, 48]   \n",
       "11  12   [180, 28]   [18, 104]   \n",
       "12  13  [124, 171]   [172, 48]   \n",
       "13  14  [124, 171]   [18, 104]   \n",
       "14  15   [172, 48]   [18, 104]   \n",
       "15  16   [18, 104]   [180, 28]   \n",
       "16  17   [18, 104]   [172, 48]   \n",
       "17  18   [18, 104]  [124, 171]   \n",
       "18  19   [18, 104]    [66, 68]   \n",
       "19  20   [18, 104]   [110, 93]   \n",
       "20  21   [180, 28]   [172, 48]   \n",
       "21  22   [180, 28]  [124, 171]   \n",
       "22  23   [180, 28]    [66, 68]   \n",
       "23  24   [180, 28]   [110, 93]   \n",
       "24  25   [172, 48]  [124, 171]   \n",
       "25  26   [172, 48]    [66, 68]   \n",
       "26  27   [172, 48]   [110, 93]   \n",
       "27  28  [124, 171]    [66, 68]   \n",
       "28  29  [124, 171]   [110, 93]   \n",
       "29  30    [66, 68]   [110, 93]   \n",
       "\n",
       "                                                track  \n",
       "0   [[110, 109, 108, 107, 106, 105, 104, 103, 102,...  \n",
       "1   [[180, 179, 178, 177, 176, 175, 174, 173, 172,...  \n",
       "2   [[124, 124, 123, 123, 122, 122, 121, 121, 120,...  \n",
       "3   [[172, 171, 170, 169, 168, 167, 166, 165, 164,...  \n",
       "4   [[18, 19, 20, 21, 22, 23, 24, 25, 26, 27, 28, ...  \n",
       "5   [[180, 179, 178, 177, 176, 175, 174, 173, 172,...  \n",
       "6   [[124, 124, 123, 123, 122, 122, 121, 121, 120,...  \n",
       "7   [[172, 171, 170, 169, 168, 167, 166, 165, 164,...  \n",
       "8   [[18, 19, 20, 21, 22, 23, 24, 25, 26, 27, 28, ...  \n",
       "9   [[124, 124, 123, 123, 122, 122, 121, 121, 120,...  \n",
       "10  [[172, 171, 171, 171, 170, 170, 169, 169, 168,...  \n",
       "11  [[18, 19, 20, 21, 22, 23, 24, 25, 26, 27, 28, ...  \n",
       "12  [[172, 171, 170, 169, 168, 167, 166, 165, 164,...  \n",
       "13  [[18, 19, 20, 21, 22, 23, 24, 25, 26, 27, 28, ...  \n",
       "14  [[18, 19, 20, 21, 22, 23, 24, 25, 26, 27, 28, ...  \n",
       "15  [[180, 179, 178, 177, 176, 175, 174, 173, 172,...  \n",
       "16  [[172, 171, 170, 169, 168, 167, 166, 165, 164,...  \n",
       "17  [[124, 123, 122, 121, 120, 119, 118, 117, 116,...  \n",
       "18  [[66, 66, 67, 67, 68, 68, 69, 69, 70, 70, 71, ...  \n",
       "19  [[110, 109, 108, 107, 106, 105, 104, 103, 102,...  \n",
       "20  [[172, 172, 172, 172, 173, 173, 174, 174, 175,...  \n",
       "21  [[124, 124, 123, 123, 122, 122, 121, 121, 120,...  \n",
       "22  [[66, 66, 67, 67, 68, 69, 70, 71, 72, 73, 74, ...  \n",
       "23  [[110, 110, 111, 112, 113, 114, 115, 116, 117,...  \n",
       "24  [[124, 124, 124, 124, 124, 123, 123, 122, 122,...  \n",
       "25  [[66, 66, 67, 67, 68, 69, 70, 71, 72, 73, 74, ...  \n",
       "26  [[110, 110, 111, 112, 113, 114, 115, 116, 117,...  \n",
       "27  [[66, 66, 67, 67, 68, 69, 70, 71, 72, 73, 74, ...  \n",
       "28  [[110, 110, 110, 110, 110, 110, 110, 110, 110,...  \n",
       "29  [[110, 109, 108, 107, 106, 105, 104, 103, 102,...  "
      ]
     },
     "execution_count": 24,
     "metadata": {},
     "output_type": "execute_result"
    }
   ],
   "source": [
    "df_paths"
   ]
  },
  {
   "cell_type": "code",
   "execution_count": 25,
   "metadata": {},
   "outputs": [],
   "source": [
    "df_paths = ptools.path_stats(df_paths, all_paths, df)"
   ]
  },
  {
   "cell_type": "markdown",
   "metadata": {},
   "source": [
    "#### Calculate paths that maximize function"
   ]
  },
  {
   "cell_type": "code",
   "execution_count": 26,
   "metadata": {},
   "outputs": [
    {
     "data": {
      "text/html": [
       "<div>\n",
       "<style scoped>\n",
       "    .dataframe tbody tr th:only-of-type {\n",
       "        vertical-align: middle;\n",
       "    }\n",
       "\n",
       "    .dataframe tbody tr th {\n",
       "        vertical-align: top;\n",
       "    }\n",
       "\n",
       "    .dataframe thead th {\n",
       "        text-align: right;\n",
       "    }\n",
       "</style>\n",
       "<table border=\"1\" class=\"dataframe\">\n",
       "  <thead>\n",
       "    <tr style=\"text-align: right;\">\n",
       "      <th></th>\n",
       "      <th>id</th>\n",
       "      <th>path_ids</th>\n",
       "      <th>origin</th>\n",
       "      <th>destination</th>\n",
       "      <th>track</th>\n",
       "      <th>sum</th>\n",
       "    </tr>\n",
       "  </thead>\n",
       "  <tbody>\n",
       "    <tr>\n",
       "      <th>17</th>\n",
       "      <td>18</td>\n",
       "      <td>(0, 1)</td>\n",
       "      <td>[18, 104]</td>\n",
       "      <td>[124, 171]</td>\n",
       "      <td>[[124, 123, 122, 121, 120, 119, 118, 117, 116,...</td>\n",
       "      <td>365.0</td>\n",
       "    </tr>\n",
       "    <tr>\n",
       "      <th>15</th>\n",
       "      <td>16</td>\n",
       "      <td>(0, 2)</td>\n",
       "      <td>[18, 104]</td>\n",
       "      <td>[180, 28]</td>\n",
       "      <td>[[180, 179, 178, 177, 176, 175, 174, 173, 172,...</td>\n",
       "      <td>1740.0</td>\n",
       "    </tr>\n",
       "    <tr>\n",
       "      <th>16</th>\n",
       "      <td>17</td>\n",
       "      <td>(0, 3)</td>\n",
       "      <td>[18, 104]</td>\n",
       "      <td>[172, 48]</td>\n",
       "      <td>[[172, 171, 170, 169, 168, 167, 166, 165, 164,...</td>\n",
       "      <td>1650.0</td>\n",
       "    </tr>\n",
       "    <tr>\n",
       "      <th>19</th>\n",
       "      <td>20</td>\n",
       "      <td>(0, 4)</td>\n",
       "      <td>[18, 104]</td>\n",
       "      <td>[110, 93]</td>\n",
       "      <td>[[110, 109, 108, 107, 106, 105, 104, 103, 102,...</td>\n",
       "      <td>917.0</td>\n",
       "    </tr>\n",
       "    <tr>\n",
       "      <th>18</th>\n",
       "      <td>19</td>\n",
       "      <td>(0, 5)</td>\n",
       "      <td>[18, 104]</td>\n",
       "      <td>[66, 68]</td>\n",
       "      <td>[[66, 66, 67, 67, 68, 68, 69, 69, 70, 70, 71, ...</td>\n",
       "      <td>538.0</td>\n",
       "    </tr>\n",
       "    <tr>\n",
       "      <th>13</th>\n",
       "      <td>14</td>\n",
       "      <td>(1, 0)</td>\n",
       "      <td>[124, 171]</td>\n",
       "      <td>[18, 104]</td>\n",
       "      <td>[[18, 19, 20, 21, 22, 23, 24, 25, 26, 27, 28, ...</td>\n",
       "      <td>1429.0</td>\n",
       "    </tr>\n",
       "    <tr>\n",
       "      <th>12</th>\n",
       "      <td>13</td>\n",
       "      <td>(1, 3)</td>\n",
       "      <td>[124, 171]</td>\n",
       "      <td>[172, 48]</td>\n",
       "      <td>[[172, 171, 170, 169, 168, 167, 166, 165, 164,...</td>\n",
       "      <td>1321.0</td>\n",
       "    </tr>\n",
       "    <tr>\n",
       "      <th>28</th>\n",
       "      <td>29</td>\n",
       "      <td>(1, 4)</td>\n",
       "      <td>[124, 171]</td>\n",
       "      <td>[110, 93]</td>\n",
       "      <td>[[110, 110, 110, 110, 110, 110, 110, 110, 110,...</td>\n",
       "      <td>526.0</td>\n",
       "    </tr>\n",
       "    <tr>\n",
       "      <th>27</th>\n",
       "      <td>28</td>\n",
       "      <td>(1, 5)</td>\n",
       "      <td>[124, 171]</td>\n",
       "      <td>[66, 68]</td>\n",
       "      <td>[[66, 66, 67, 67, 68, 69, 70, 71, 72, 73, 74, ...</td>\n",
       "      <td>1007.0</td>\n",
       "    </tr>\n",
       "    <tr>\n",
       "      <th>11</th>\n",
       "      <td>12</td>\n",
       "      <td>(2, 0)</td>\n",
       "      <td>[180, 28]</td>\n",
       "      <td>[18, 104]</td>\n",
       "      <td>[[18, 19, 20, 21, 22, 23, 24, 25, 26, 27, 28, ...</td>\n",
       "      <td>1753.0</td>\n",
       "    </tr>\n",
       "    <tr>\n",
       "      <th>9</th>\n",
       "      <td>10</td>\n",
       "      <td>(2, 1)</td>\n",
       "      <td>[180, 28]</td>\n",
       "      <td>[124, 171]</td>\n",
       "      <td>[[124, 124, 123, 123, 122, 122, 121, 121, 120,...</td>\n",
       "      <td>1449.0</td>\n",
       "    </tr>\n",
       "    <tr>\n",
       "      <th>10</th>\n",
       "      <td>11</td>\n",
       "      <td>(2, 3)</td>\n",
       "      <td>[180, 28]</td>\n",
       "      <td>[172, 48]</td>\n",
       "      <td>[[172, 171, 171, 171, 170, 170, 169, 169, 168,...</td>\n",
       "      <td>109.0</td>\n",
       "    </tr>\n",
       "    <tr>\n",
       "      <th>23</th>\n",
       "      <td>24</td>\n",
       "      <td>(2, 4)</td>\n",
       "      <td>[180, 28]</td>\n",
       "      <td>[110, 93]</td>\n",
       "      <td>[[110, 110, 111, 112, 113, 114, 115, 116, 117,...</td>\n",
       "      <td>898.0</td>\n",
       "    </tr>\n",
       "    <tr>\n",
       "      <th>22</th>\n",
       "      <td>23</td>\n",
       "      <td>(2, 5)</td>\n",
       "      <td>[180, 28]</td>\n",
       "      <td>[66, 68]</td>\n",
       "      <td>[[66, 66, 67, 67, 68, 69, 70, 71, 72, 73, 74, ...</td>\n",
       "      <td>1329.0</td>\n",
       "    </tr>\n",
       "    <tr>\n",
       "      <th>14</th>\n",
       "      <td>15</td>\n",
       "      <td>(3, 0)</td>\n",
       "      <td>[172, 48]</td>\n",
       "      <td>[18, 104]</td>\n",
       "      <td>[[18, 19, 20, 21, 22, 23, 24, 25, 26, 27, 28, ...</td>\n",
       "      <td>1670.0</td>\n",
       "    </tr>\n",
       "    <tr>\n",
       "      <th>24</th>\n",
       "      <td>25</td>\n",
       "      <td>(3, 1)</td>\n",
       "      <td>[172, 48]</td>\n",
       "      <td>[124, 171]</td>\n",
       "      <td>[[124, 124, 124, 124, 124, 123, 123, 122, 122,...</td>\n",
       "      <td>1278.0</td>\n",
       "    </tr>\n",
       "    <tr>\n",
       "      <th>26</th>\n",
       "      <td>27</td>\n",
       "      <td>(3, 4)</td>\n",
       "      <td>[172, 48]</td>\n",
       "      <td>[110, 93]</td>\n",
       "      <td>[[110, 110, 111, 112, 113, 114, 115, 116, 117,...</td>\n",
       "      <td>825.0</td>\n",
       "    </tr>\n",
       "    <tr>\n",
       "      <th>25</th>\n",
       "      <td>26</td>\n",
       "      <td>(3, 5)</td>\n",
       "      <td>[172, 48]</td>\n",
       "      <td>[66, 68]</td>\n",
       "      <td>[[66, 66, 67, 67, 68, 69, 70, 71, 72, 73, 74, ...</td>\n",
       "      <td>1256.0</td>\n",
       "    </tr>\n",
       "    <tr>\n",
       "      <th>8</th>\n",
       "      <td>9</td>\n",
       "      <td>(4, 0)</td>\n",
       "      <td>[110, 93]</td>\n",
       "      <td>[18, 104]</td>\n",
       "      <td>[[18, 19, 20, 21, 22, 23, 24, 25, 26, 27, 28, ...</td>\n",
       "      <td>915.0</td>\n",
       "    </tr>\n",
       "    <tr>\n",
       "      <th>6</th>\n",
       "      <td>7</td>\n",
       "      <td>(4, 1)</td>\n",
       "      <td>[110, 93]</td>\n",
       "      <td>[124, 171]</td>\n",
       "      <td>[[124, 124, 123, 123, 122, 122, 121, 121, 120,...</td>\n",
       "      <td>590.0</td>\n",
       "    </tr>\n",
       "    <tr>\n",
       "      <th>5</th>\n",
       "      <td>6</td>\n",
       "      <td>(4, 2)</td>\n",
       "      <td>[110, 93]</td>\n",
       "      <td>[180, 28]</td>\n",
       "      <td>[[180, 179, 178, 177, 176, 175, 174, 173, 172,...</td>\n",
       "      <td>874.0</td>\n",
       "    </tr>\n",
       "    <tr>\n",
       "      <th>7</th>\n",
       "      <td>8</td>\n",
       "      <td>(4, 3)</td>\n",
       "      <td>[110, 93]</td>\n",
       "      <td>[172, 48]</td>\n",
       "      <td>[[172, 171, 170, 169, 168, 167, 166, 165, 164,...</td>\n",
       "      <td>781.0</td>\n",
       "    </tr>\n",
       "    <tr>\n",
       "      <th>4</th>\n",
       "      <td>5</td>\n",
       "      <td>(5, 0)</td>\n",
       "      <td>[66, 68]</td>\n",
       "      <td>[18, 104]</td>\n",
       "      <td>[[18, 19, 20, 21, 22, 23, 24, 25, 26, 27, 28, ...</td>\n",
       "      <td>85.0</td>\n",
       "    </tr>\n",
       "    <tr>\n",
       "      <th>2</th>\n",
       "      <td>3</td>\n",
       "      <td>(5, 1)</td>\n",
       "      <td>[66, 68]</td>\n",
       "      <td>[124, 171]</td>\n",
       "      <td>[[124, 124, 123, 123, 122, 122, 121, 121, 120,...</td>\n",
       "      <td>862.0</td>\n",
       "    </tr>\n",
       "    <tr>\n",
       "      <th>1</th>\n",
       "      <td>2</td>\n",
       "      <td>(5, 2)</td>\n",
       "      <td>[66, 68]</td>\n",
       "      <td>[180, 28]</td>\n",
       "      <td>[[180, 179, 178, 177, 176, 175, 174, 173, 172,...</td>\n",
       "      <td>1057.0</td>\n",
       "    </tr>\n",
       "    <tr>\n",
       "      <th>3</th>\n",
       "      <td>4</td>\n",
       "      <td>(5, 3)</td>\n",
       "      <td>[66, 68]</td>\n",
       "      <td>[172, 48]</td>\n",
       "      <td>[[172, 171, 170, 169, 168, 167, 166, 165, 164,...</td>\n",
       "      <td>790.0</td>\n",
       "    </tr>\n",
       "    <tr>\n",
       "      <th>0</th>\n",
       "      <td>1</td>\n",
       "      <td>(5, 4)</td>\n",
       "      <td>[66, 68]</td>\n",
       "      <td>[110, 93]</td>\n",
       "      <td>[[110, 109, 108, 107, 106, 105, 104, 103, 102,...</td>\n",
       "      <td>484.0</td>\n",
       "    </tr>\n",
       "  </tbody>\n",
       "</table>\n",
       "</div>"
      ],
      "text/plain": [
       "    id path_ids      origin destination  \\\n",
       "17  18   (0, 1)   [18, 104]  [124, 171]   \n",
       "15  16   (0, 2)   [18, 104]   [180, 28]   \n",
       "16  17   (0, 3)   [18, 104]   [172, 48]   \n",
       "19  20   (0, 4)   [18, 104]   [110, 93]   \n",
       "18  19   (0, 5)   [18, 104]    [66, 68]   \n",
       "13  14   (1, 0)  [124, 171]   [18, 104]   \n",
       "12  13   (1, 3)  [124, 171]   [172, 48]   \n",
       "28  29   (1, 4)  [124, 171]   [110, 93]   \n",
       "27  28   (1, 5)  [124, 171]    [66, 68]   \n",
       "11  12   (2, 0)   [180, 28]   [18, 104]   \n",
       "9   10   (2, 1)   [180, 28]  [124, 171]   \n",
       "10  11   (2, 3)   [180, 28]   [172, 48]   \n",
       "23  24   (2, 4)   [180, 28]   [110, 93]   \n",
       "22  23   (2, 5)   [180, 28]    [66, 68]   \n",
       "14  15   (3, 0)   [172, 48]   [18, 104]   \n",
       "24  25   (3, 1)   [172, 48]  [124, 171]   \n",
       "26  27   (3, 4)   [172, 48]   [110, 93]   \n",
       "25  26   (3, 5)   [172, 48]    [66, 68]   \n",
       "8    9   (4, 0)   [110, 93]   [18, 104]   \n",
       "6    7   (4, 1)   [110, 93]  [124, 171]   \n",
       "5    6   (4, 2)   [110, 93]   [180, 28]   \n",
       "7    8   (4, 3)   [110, 93]   [172, 48]   \n",
       "4    5   (5, 0)    [66, 68]   [18, 104]   \n",
       "2    3   (5, 1)    [66, 68]  [124, 171]   \n",
       "1    2   (5, 2)    [66, 68]   [180, 28]   \n",
       "3    4   (5, 3)    [66, 68]   [172, 48]   \n",
       "0    1   (5, 4)    [66, 68]   [110, 93]   \n",
       "\n",
       "                                                track     sum  \n",
       "17  [[124, 123, 122, 121, 120, 119, 118, 117, 116,...   365.0  \n",
       "15  [[180, 179, 178, 177, 176, 175, 174, 173, 172,...  1740.0  \n",
       "16  [[172, 171, 170, 169, 168, 167, 166, 165, 164,...  1650.0  \n",
       "19  [[110, 109, 108, 107, 106, 105, 104, 103, 102,...   917.0  \n",
       "18  [[66, 66, 67, 67, 68, 68, 69, 69, 70, 70, 71, ...   538.0  \n",
       "13  [[18, 19, 20, 21, 22, 23, 24, 25, 26, 27, 28, ...  1429.0  \n",
       "12  [[172, 171, 170, 169, 168, 167, 166, 165, 164,...  1321.0  \n",
       "28  [[110, 110, 110, 110, 110, 110, 110, 110, 110,...   526.0  \n",
       "27  [[66, 66, 67, 67, 68, 69, 70, 71, 72, 73, 74, ...  1007.0  \n",
       "11  [[18, 19, 20, 21, 22, 23, 24, 25, 26, 27, 28, ...  1753.0  \n",
       "9   [[124, 124, 123, 123, 122, 122, 121, 121, 120,...  1449.0  \n",
       "10  [[172, 171, 171, 171, 170, 170, 169, 169, 168,...   109.0  \n",
       "23  [[110, 110, 111, 112, 113, 114, 115, 116, 117,...   898.0  \n",
       "22  [[66, 66, 67, 67, 68, 69, 70, 71, 72, 73, 74, ...  1329.0  \n",
       "14  [[18, 19, 20, 21, 22, 23, 24, 25, 26, 27, 28, ...  1670.0  \n",
       "24  [[124, 124, 124, 124, 124, 123, 123, 122, 122,...  1278.0  \n",
       "26  [[110, 110, 111, 112, 113, 114, 115, 116, 117,...   825.0  \n",
       "25  [[66, 66, 67, 67, 68, 69, 70, 71, 72, 73, 74, ...  1256.0  \n",
       "8   [[18, 19, 20, 21, 22, 23, 24, 25, 26, 27, 28, ...   915.0  \n",
       "6   [[124, 124, 123, 123, 122, 122, 121, 121, 120,...   590.0  \n",
       "5   [[180, 179, 178, 177, 176, 175, 174, 173, 172,...   874.0  \n",
       "7   [[172, 171, 170, 169, 168, 167, 166, 165, 164,...   781.0  \n",
       "4   [[18, 19, 20, 21, 22, 23, 24, 25, 26, 27, 28, ...    85.0  \n",
       "2   [[124, 124, 123, 123, 122, 122, 121, 121, 120,...   862.0  \n",
       "1   [[180, 179, 178, 177, 176, 175, 174, 173, 172,...  1057.0  \n",
       "3   [[172, 171, 170, 169, 168, 167, 166, 165, 164,...   790.0  \n",
       "0   [[110, 109, 108, 107, 106, 105, 104, 103, 102,...   484.0  "
      ]
     },
     "execution_count": 26,
     "metadata": {},
     "output_type": "execute_result"
    }
   ],
   "source": [
    "df_max_paths = df_paths.loc[df_paths.groupby(['path_ids'])['sum'].idxmax()]\n",
    "df_max_paths"
   ]
  },
  {
   "cell_type": "markdown",
   "metadata": {},
   "source": [
    "##### Plot results"
   ]
  },
  {
   "cell_type": "code",
   "execution_count": 25,
   "metadata": {},
   "outputs": [
    {
     "data": {
      "image/png": "[encoded data removed]",
      "text/plain": [
       "<Figure size 432x432 with 1 Axes>"
      ]
     },
     "metadata": {
      "needs_background": "light"
     },
     "output_type": "display_data"
    }
   ],
   "source": [
    "import matplotlib.pyplot as plt\n",
    "import matplotlib as mpl\n",
    "\n",
    "# calculate extension\n",
    "bounds = profile['bounds']\n",
    "extent = [bounds.left, bounds.right, bounds.bottom, bounds.top]\n",
    "\n",
    "# plot image\n",
    "cmap = mpl.cm.get_cmap('viridis')\n",
    "fig, ax = plt.subplots(ncols= 1, figsize= (6,6))\n",
    "im = ax.imshow(dem, extent= extent, origin= 'upper', cmap= cmap)\n",
    "\n",
    "for i, path in df_max_paths.iterrows():\n",
    "\n",
    "    X = [pt[0] for pt in utils.rc2pt(path['track'], profile)]\n",
    "    Y = [pt[1] for pt in utils.rc2pt(path['track'], profile)]\n",
    "    ax.plot (X, Y, 'w-', alpha= 0.25)\n"
   ]
  },
  {
   "cell_type": "code",
   "execution_count": null,
   "metadata": {},
   "outputs": [],
   "source": []
  }
 ],
 "metadata": {
  "kernelspec": {
   "display_name": "Python 3",
   "language": "python",
   "name": "python3"
  },
  "language_info": {
   "codemirror_mode": {
    "name": "ipython",
    "version": 3
   },
   "file_extension": ".py",
   "mimetype": "text/x-python",
   "name": "python",
   "nbconvert_exporter": "python",
   "pygments_lexer": "ipython3",
   "version": "3.7.3"
  }
 },
 "nbformat": 4,
 "nbformat_minor": 2
}
